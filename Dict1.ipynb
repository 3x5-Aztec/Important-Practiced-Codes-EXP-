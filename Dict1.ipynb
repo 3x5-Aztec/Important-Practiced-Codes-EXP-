{
 "cells": [
  {
   "cell_type": "code",
   "execution_count": 49,
   "metadata": {},
   "outputs": [],
   "source": [
    "D11 = {'a' : 11, 'b' : 12, 'c' : 13}\n",
    "D12 = {'q' : 12, 'w' : 33, 'e' : 44}"
   ]
  },
  {
   "cell_type": "code",
   "execution_count": 50,
   "metadata": {},
   "outputs": [],
   "source": [
    "D = {'Zombie' : D11, 'Cat' : D12}"
   ]
  },
  {
   "cell_type": "code",
   "execution_count": 51,
   "metadata": {},
   "outputs": [
    {
     "name": "stdout",
     "output_type": "stream",
     "text": [
      "Zombie : {'a': 11, 'b': 12, 'c': 13}\n"
     ]
    }
   ],
   "source": [
    "print(next(iter(D)), D['Zombie'], sep = ' : ')"
   ]
  },
  {
   "cell_type": "code",
   "execution_count": 52,
   "metadata": {},
   "outputs": [
    {
     "name": "stdout",
     "output_type": "stream",
     "text": [
      "Zombie : {'a': 11, 'b': 12, 'c': 13}\n",
      "Cat : {'q': 12, 'w': 33, 'e': 44}\n"
     ]
    }
   ],
   "source": [
    "for key in D:\n",
    "    print(key, D[key], sep = ' : ')"
   ]
  }
 ],
 "metadata": {
  "kernelspec": {
   "display_name": "Python 3",
   "language": "python",
   "name": "python3"
  },
  "language_info": {
   "codemirror_mode": {
    "name": "ipython",
    "version": 3
   },
   "file_extension": ".py",
   "mimetype": "text/x-python",
   "name": "python",
   "nbconvert_exporter": "python",
   "pygments_lexer": "ipython3",
   "version": "3.7.3"
  }
 },
 "nbformat": 4,
 "nbformat_minor": 2
}
