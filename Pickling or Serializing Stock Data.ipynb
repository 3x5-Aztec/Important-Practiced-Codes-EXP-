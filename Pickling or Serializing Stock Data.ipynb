{
 "cells": [
  {
   "cell_type": "markdown",
   "metadata": {},
   "source": [
    "## Pickling Data\n",
    "Doing this will help you save time when you want to replay the data."
   ]
  },
  {
   "cell_type": "code",
   "execution_count": 31,
   "metadata": {},
   "outputs": [],
   "source": [
    "import pandas as pd\n",
    "import numpy as np\n",
    "import matplotlib.pyplot as plt\n",
    "import pandas_datareader.data as web"
   ]
  },
  {
   "cell_type": "code",
   "execution_count": 32,
   "metadata": {},
   "outputs": [],
   "source": [
    "start_date = '2014-01-01'\n",
    "end_date = '2018-01-01'\n",
    "SRC_DATA_FILENAME = 'google_stock_data.pkl'"
   ]
  },
  {
   "cell_type": "code",
   "execution_count": 33,
   "metadata": {},
   "outputs": [],
   "source": [
    "try:\n",
    "    google_stock_data = pd.read_pickle(SRC_DATA_FILENAME)\n",
    "except FileNotFoundError:\n",
    "    google_stock_data = web.DataReader('GOOG', 'yahoo', start_date, end_date)\n",
    "    google_stock_data.to_pickle(SRC_DATA_FILENAME)"
   ]
  },
  {
   "cell_type": "code",
   "execution_count": 34,
   "metadata": {},
   "outputs": [
    {
     "data": {
      "text/html": [
       "<div>\n",
       "<style scoped>\n",
       "    .dataframe tbody tr th:only-of-type {\n",
       "        vertical-align: middle;\n",
       "    }\n",
       "\n",
       "    .dataframe tbody tr th {\n",
       "        vertical-align: top;\n",
       "    }\n",
       "\n",
       "    .dataframe thead th {\n",
       "        text-align: right;\n",
       "    }\n",
       "</style>\n",
       "<table border=\"1\" class=\"dataframe\">\n",
       "  <thead>\n",
       "    <tr style=\"text-align: right;\">\n",
       "      <th></th>\n",
       "      <th>High</th>\n",
       "      <th>Low</th>\n",
       "      <th>Open</th>\n",
       "      <th>Close</th>\n",
       "      <th>Volume</th>\n",
       "      <th>Adj Close</th>\n",
       "    </tr>\n",
       "    <tr>\n",
       "      <th>Date</th>\n",
       "      <th></th>\n",
       "      <th></th>\n",
       "      <th></th>\n",
       "      <th></th>\n",
       "      <th></th>\n",
       "      <th></th>\n",
       "    </tr>\n",
       "  </thead>\n",
       "  <tbody>\n",
       "    <tr>\n",
       "      <th>2015-07-17</th>\n",
       "      <td>674.468018</td>\n",
       "      <td>645.000000</td>\n",
       "      <td>649.000000</td>\n",
       "      <td>672.929993</td>\n",
       "      <td>11164900.0</td>\n",
       "      <td>672.929993</td>\n",
       "    </tr>\n",
       "    <tr>\n",
       "      <th>2015-07-20</th>\n",
       "      <td>668.880005</td>\n",
       "      <td>653.010010</td>\n",
       "      <td>659.239990</td>\n",
       "      <td>663.020020</td>\n",
       "      <td>5860900.0</td>\n",
       "      <td>663.020020</td>\n",
       "    </tr>\n",
       "    <tr>\n",
       "      <th>2015-07-21</th>\n",
       "      <td>673.000000</td>\n",
       "      <td>654.299988</td>\n",
       "      <td>655.210022</td>\n",
       "      <td>662.299988</td>\n",
       "      <td>3377200.0</td>\n",
       "      <td>662.299988</td>\n",
       "    </tr>\n",
       "    <tr>\n",
       "      <th>2015-07-22</th>\n",
       "      <td>678.640015</td>\n",
       "      <td>659.000000</td>\n",
       "      <td>660.890015</td>\n",
       "      <td>662.099976</td>\n",
       "      <td>3929300.0</td>\n",
       "      <td>662.099976</td>\n",
       "    </tr>\n",
       "    <tr>\n",
       "      <th>2015-07-23</th>\n",
       "      <td>663.630005</td>\n",
       "      <td>641.000000</td>\n",
       "      <td>661.270020</td>\n",
       "      <td>644.280029</td>\n",
       "      <td>3029100.0</td>\n",
       "      <td>644.280029</td>\n",
       "    </tr>\n",
       "    <tr>\n",
       "      <th>...</th>\n",
       "      <td>...</td>\n",
       "      <td>...</td>\n",
       "      <td>...</td>\n",
       "      <td>...</td>\n",
       "      <td>...</td>\n",
       "      <td>...</td>\n",
       "    </tr>\n",
       "    <tr>\n",
       "      <th>2017-12-22</th>\n",
       "      <td>1064.199951</td>\n",
       "      <td>1059.439941</td>\n",
       "      <td>1061.109985</td>\n",
       "      <td>1060.119995</td>\n",
       "      <td>755100.0</td>\n",
       "      <td>1060.119995</td>\n",
       "    </tr>\n",
       "    <tr>\n",
       "      <th>2017-12-26</th>\n",
       "      <td>1060.119995</td>\n",
       "      <td>1050.199951</td>\n",
       "      <td>1058.069946</td>\n",
       "      <td>1056.739990</td>\n",
       "      <td>760600.0</td>\n",
       "      <td>1056.739990</td>\n",
       "    </tr>\n",
       "    <tr>\n",
       "      <th>2017-12-27</th>\n",
       "      <td>1058.369995</td>\n",
       "      <td>1048.050049</td>\n",
       "      <td>1057.390015</td>\n",
       "      <td>1049.369995</td>\n",
       "      <td>1271900.0</td>\n",
       "      <td>1049.369995</td>\n",
       "    </tr>\n",
       "    <tr>\n",
       "      <th>2017-12-28</th>\n",
       "      <td>1054.750000</td>\n",
       "      <td>1044.770020</td>\n",
       "      <td>1051.599976</td>\n",
       "      <td>1048.140015</td>\n",
       "      <td>837100.0</td>\n",
       "      <td>1048.140015</td>\n",
       "    </tr>\n",
       "    <tr>\n",
       "      <th>2017-12-29</th>\n",
       "      <td>1049.699951</td>\n",
       "      <td>1044.900024</td>\n",
       "      <td>1046.719971</td>\n",
       "      <td>1046.400024</td>\n",
       "      <td>887500.0</td>\n",
       "      <td>1046.400024</td>\n",
       "    </tr>\n",
       "  </tbody>\n",
       "</table>\n",
       "<p>620 rows × 6 columns</p>\n",
       "</div>"
      ],
      "text/plain": [
       "                   High          Low         Open        Close      Volume    Adj Close\n",
       "Date                                                                                   \n",
       "2015-07-17   674.468018   645.000000   649.000000   672.929993  11164900.0   672.929993\n",
       "2015-07-20   668.880005   653.010010   659.239990   663.020020   5860900.0   663.020020\n",
       "2015-07-21   673.000000   654.299988   655.210022   662.299988   3377200.0   662.299988\n",
       "2015-07-22   678.640015   659.000000   660.890015   662.099976   3929300.0   662.099976\n",
       "2015-07-23   663.630005   641.000000   661.270020   644.280029   3029100.0   644.280029\n",
       "...                 ...          ...          ...          ...         ...          ...\n",
       "2017-12-22  1064.199951  1059.439941  1061.109985  1060.119995    755100.0  1060.119995\n",
       "2017-12-26  1060.119995  1050.199951  1058.069946  1056.739990    760600.0  1056.739990\n",
       "2017-12-27  1058.369995  1048.050049  1057.390015  1049.369995   1271900.0  1049.369995\n",
       "2017-12-28  1054.750000  1044.770020  1051.599976  1048.140015    837100.0  1048.140015\n",
       "2017-12-29  1049.699951  1044.900024  1046.719971  1046.400024    887500.0  1046.400024\n",
       "\n",
       "[620 rows x 6 columns]"
      ]
     },
     "execution_count": 34,
     "metadata": {},
     "output_type": "execute_result"
    }
   ],
   "source": [
    "goog_data = google_stock_data.tail(620)\n",
    "goog_data"
   ]
  },
  {
   "cell_type": "markdown",
   "metadata": {},
   "source": [
    "#### In this plot, the following applies:\n",
    "1. We draw the highs and lows of the GOOG price.\n",
    "2. The green line represents the resistance level, and the red line represents the support level.\n",
    "3. To build these lines, we use the maximum value of the GOOG price and the minimum value of the GOOG price stored daily.\n",
    "4. After the 200th day (dotted vertical blue line), we will buy when we reach the support line, and sell when we reach the resistance line. In this example, we used 200 days so that we have sufficient data points to get an estimate of the trend.\n",
    "5. It is observed that the GOOG price will reach the resistance line around August\n",
    "2016. This means that we have a signal to enter a short position (sell). \n",
    "6. Once traded, we will wait to get out of this short position when the GOOG price will reach the support line.\n",
    "7. With this historical data, it is easily noticeable that this condition will not happen.\n",
    "8. This will result in carrying a short position in a rising market without having any signal to sell it, thereby resulting in a huge loss.\n",
    "9. This means that, even if the trading idea based on support/resistance has strong grounds in terms of economical behavior, in reality, we will need to modify this trading strategy to make it work.\n",
    "10. Moving the support/resistance line to adapt to the market evolution will be key to the trading strategy efficiency"
   ]
  },
  {
   "cell_type": "code",
   "execution_count": 35,
   "metadata": {},
   "outputs": [
    {
     "data": {
      "image/png": "[encoded data removed]",
      "text/plain": [
       "<Figure size 720x504 with 1 Axes>"
      ]
     },
     "metadata": {
      "needs_background": "light"
     },
     "output_type": "display_data"
    }
   ],
   "source": [
    "fig = plt.figure(figsize = (10, 7))\n",
    "\n",
    "\n",
    "ax1 = fig.add_subplot(111, ylabel = 'Google Price In $')\n",
    "high.plot(ax = ax1, color = 'c', lw = 2)\n",
    "\n",
    "low.plot(ax = ax1, color = 'y', lw = 2)\n",
    "\n",
    "plt.hlines(high.head(200).max(),low.index.values[0],low.index.values[-1]\n",
    ",linewidth=2, color='g')\n",
    "plt.hlines(low.head(200).min(),low.index.values[0],low.index.values[-1],\n",
    "linewidth=2, color='r')\n",
    "plt.axvline(linewidth=2,color='b',x=low.index.values[200],linestyle=':')\n",
    "\n",
    "plt.show()"
   ]
  },
  {
   "cell_type": "code",
   "execution_count": 36,
   "metadata": {},
   "outputs": [],
   "source": [
    "google_data_signal = pd.DataFrame(google_stock_data, index = google_stock_data.index)"
   ]
  },
  {
   "cell_type": "code",
   "execution_count": 37,
   "metadata": {},
   "outputs": [],
   "source": [
    "google_data_signal['Price'] = google_data_signal['Adj Close']"
   ]
  }
 ],
 "metadata": {
  "kernelspec": {
   "display_name": "Python 3",
   "language": "python",
   "name": "python3"
  },
  "language_info": {
   "codemirror_mode": {
    "name": "ipython",
    "version": 3
   },
   "file_extension": ".py",
   "mimetype": "text/x-python",
   "name": "python",
   "nbconvert_exporter": "python",
   "pygments_lexer": "ipython3",
   "version": "3.7.6"
  }
 },
 "nbformat": 4,
 "nbformat_minor": 4
}
