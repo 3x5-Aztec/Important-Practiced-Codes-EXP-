{
 "cells": [
  {
   "cell_type": "code",
   "execution_count": 42,
   "metadata": {},
   "outputs": [],
   "source": [
    "import cProfile, pstats, io\n",
    "from line_profiler import LineProfiler"
   ]
  },
  {
   "cell_type": "markdown",
   "metadata": {},
   "source": [
    "## cProfile"
   ]
  },
  {
   "cell_type": "code",
   "execution_count": 43,
   "metadata": {},
   "outputs": [],
   "source": [
    "def profile(function):\n",
    "    \n",
    "    def inner(*args, **kwargs):\n",
    "        \n",
    "        \"\"\"Decorator that uses cProfile for profiling a function\"\"\"\n",
    "        \n",
    "        Profile_Report = cProfile.Profile()\n",
    "        Profile_Report.enable()\n",
    "        retval = function(*args, **kwargs)\n",
    "        Profile_Report.disable()\n",
    "        s = io.StringIO()\n",
    "        ps = pstats.Stats(Profile_Report, stream = s).sort_stats('cumulative')\n",
    "        ps.print_stats()\n",
    "        print(s.getvalue())\n",
    "        return retval\n",
    "    \n",
    "    return inner"
   ]
  },
  {
   "cell_type": "code",
   "execution_count": 44,
   "metadata": {},
   "outputs": [],
   "source": [
    "@profile\n",
    "def sample(n):\n",
    "    L = list(range(n))\n",
    "    for i in L: \n",
    "        if i % 2 == 0 : \n",
    "            return 1\n",
    "        else: \n",
    "            return 0"
   ]
  },
  {
   "cell_type": "code",
   "execution_count": 45,
   "metadata": {},
   "outputs": [
    {
     "name": "stdout",
     "output_type": "stream",
     "text": [
      "         2 function calls in 0.003 seconds\n",
      "\n",
      "   Ordered by: cumulative time\n",
      "\n",
      "   ncalls  tottime  percall  cumtime  percall filename:lineno(function)\n",
      "        1    0.003    0.003    0.003    0.003 <ipython-input-44-4c7d67f74797>:1(sample)\n",
      "        1    0.000    0.000    0.000    0.000 {method 'disable' of '_lsprof.Profiler' objects}\n",
      "\n",
      "\n",
      "\n"
     ]
    }
   ],
   "source": [
    "Result = sample(100000)"
   ]
  },
  {
   "cell_type": "markdown",
   "metadata": {},
   "source": [
    "## LineProfiler"
   ]
  },
  {
   "cell_type": "code",
   "execution_count": 46,
   "metadata": {},
   "outputs": [],
   "source": [
    "def sample_2(n):\n",
    "    L = list(range(n))\n",
    "    for i in L: \n",
    "        if i % 2 == 0 : \n",
    "            return 1\n",
    "        else: \n",
    "            return 0"
   ]
  },
  {
   "cell_type": "code",
   "execution_count": 47,
   "metadata": {},
   "outputs": [
    {
     "name": "stdout",
     "output_type": "stream",
     "text": [
      "Timer unit: 1e-07 s\n",
      "\n",
      "Total time: 0.0017254 s\n",
      "File: <ipython-input-46-03f5635cff5c>\n",
      "Function: sample_2 at line 1\n",
      "\n",
      "Line #      Hits         Time  Per Hit   % Time  Line Contents\n",
      "==============================================================\n",
      "     1                                           def sample_2(n):\n",
      "     2         1      17190.0  17190.0     99.6      L = list(range(n))\n",
      "     3         1         29.0     29.0      0.2      for i in L: \n",
      "     4         1         23.0     23.0      0.1          if i % 2 == 0 : \n",
      "     5         1         12.0     12.0      0.1              return 1\n",
      "     6                                                   else: \n",
      "     7                                                       return 0\n",
      "\n"
     ]
    }
   ],
   "source": [
    "lp = LineProfiler()\n",
    "lp_wrapper = lp(sample_2)\n",
    "lp_wrapper = lp_wrapper(100000)\n",
    "lp.print_stats()"
   ]
  },
  {
   "cell_type": "code",
   "execution_count": null,
   "metadata": {},
   "outputs": [],
   "source": []
  }
 ],
 "metadata": {
  "kernelspec": {
   "display_name": "Python 3",
   "language": "python",
   "name": "python3"
  },
  "language_info": {
   "codemirror_mode": {
    "name": "ipython",
    "version": 3
   },
   "file_extension": ".py",
   "mimetype": "text/x-python",
   "name": "python",
   "nbconvert_exporter": "python",
   "pygments_lexer": "ipython3",
   "version": "3.7.6"
  }
 },
 "nbformat": 4,
 "nbformat_minor": 4
}
