{
 "cells": [
  {
   "cell_type": "code",
   "execution_count": 252,
   "metadata": {},
   "outputs": [],
   "source": [
    "import pandas as pd\n",
    "from fuzzywuzzy import fuzz\n",
    "import time\n"
   ]
  },
  {
   "cell_type": "code",
   "execution_count": 253,
   "metadata": {},
   "outputs": [],
   "source": [
    "D = pd.DataFrame()"
   ]
  },
  {
   "cell_type": "code",
   "execution_count": 254,
   "metadata": {},
   "outputs": [
    {
     "name": "stdout",
     "output_type": "stream",
     "text": [
      "0.003981590270996094\n"
     ]
    },
    {
     "data": {
      "text/html": [
       "<div>\n",
       "<style scoped>\n",
       "    .dataframe tbody tr th:only-of-type {\n",
       "        vertical-align: middle;\n",
       "    }\n",
       "\n",
       "    .dataframe tbody tr th {\n",
       "        vertical-align: top;\n",
       "    }\n",
       "\n",
       "    .dataframe thead th {\n",
       "        text-align: right;\n",
       "    }\n",
       "</style>\n",
       "<table border=\"1\" class=\"dataframe\">\n",
       "  <thead>\n",
       "    <tr style=\"text-align: right;\">\n",
       "      <th></th>\n",
       "      <th>a</th>\n",
       "      <th>b</th>\n",
       "    </tr>\n",
       "  </thead>\n",
       "  <tbody>\n",
       "    <tr>\n",
       "      <th>0</th>\n",
       "      <td>John</td>\n",
       "      <td>John</td>\n",
       "    </tr>\n",
       "    <tr>\n",
       "      <th>1</th>\n",
       "      <td>Cuteness</td>\n",
       "      <td>cuTeness</td>\n",
       "    </tr>\n",
       "  </tbody>\n",
       "</table>\n",
       "</div>"
      ],
      "text/plain": [
       "          a         b\n",
       "0      John      John\n",
       "1  Cuteness  cuTeness"
      ]
     },
     "execution_count": 254,
     "metadata": {},
     "output_type": "execute_result"
    }
   ],
   "source": [
    "#dictionary approach\n",
    "\n",
    "L = ['John', 'Cuteness',]\n",
    "L1 = ['John', 'cuTeness']\n",
    "my_dict = {}\n",
    "my_dict['a'] = []\n",
    "my_dict['b'] = []\n",
    "\n",
    "start = time.time()\n",
    "for i in range(len(L)):\n",
    "    for j in range(len(L1)):\n",
    "        if fuzz.ratio(L[i], L1[j])>40:\n",
    "            my_dict['a'].append(L[i])\n",
    "            my_dict['b'].append(L1[j])\n",
    "\n",
    "F = pd.DataFrame(my_dict)\n",
    "elapsed_time = (time.time() - start) \n",
    "print(elapsed_time)\n",
    "\n",
    "F"
   ]
  },
  {
   "cell_type": "code",
   "execution_count": 255,
   "metadata": {},
   "outputs": [
    {
     "name": "stdout",
     "output_type": "stream",
     "text": [
      "0.003998994827270508\n"
     ]
    },
    {
     "data": {
      "text/html": [
       "<div>\n",
       "<style scoped>\n",
       "    .dataframe tbody tr th:only-of-type {\n",
       "        vertical-align: middle;\n",
       "    }\n",
       "\n",
       "    .dataframe tbody tr th {\n",
       "        vertical-align: top;\n",
       "    }\n",
       "\n",
       "    .dataframe thead th {\n",
       "        text-align: right;\n",
       "    }\n",
       "</style>\n",
       "<table border=\"1\" class=\"dataframe\">\n",
       "  <thead>\n",
       "    <tr style=\"text-align: right;\">\n",
       "      <th></th>\n",
       "      <th>a</th>\n",
       "      <th>b</th>\n",
       "    </tr>\n",
       "  </thead>\n",
       "  <tbody>\n",
       "    <tr>\n",
       "      <th>0</th>\n",
       "      <td>John</td>\n",
       "      <td>John</td>\n",
       "    </tr>\n",
       "    <tr>\n",
       "      <th>1</th>\n",
       "      <td>Cuteness</td>\n",
       "      <td>cuTeness</td>\n",
       "    </tr>\n",
       "  </tbody>\n",
       "</table>\n",
       "</div>"
      ],
      "text/plain": [
       "          a         b\n",
       "0      John      John\n",
       "1  Cuteness  cuTeness"
      ]
     },
     "execution_count": 255,
     "metadata": {},
     "output_type": "execute_result"
    }
   ],
   "source": [
    "#Dictionary approach\n",
    "\n",
    "\n",
    "my_list = []\n",
    "\n",
    "L = ['John', 'Cuteness']\n",
    "L1 = ['John', 'cuTeness']\n",
    "start = time.time()\n",
    "for i in range(len(L)):\n",
    "    for j in range(len(L1)):\n",
    "        if fuzz.ratio(L[i], L1[j]) > 50:\n",
    "           my_list.append({'a': L[i], 'b': L1[j]})\n",
    "            \n",
    "D = D.append(my_list)\n",
    "elapsed_time = (time.time() - start)\n",
    "print(elapsed_time)\n",
    "D"
   ]
  },
  {
   "cell_type": "code",
   "execution_count": 256,
   "metadata": {},
   "outputs": [
    {
     "name": "stdout",
     "output_type": "stream",
     "text": [
      "0.003998279571533203\n"
     ]
    }
   ],
   "source": [
    "#List approach\n",
    "\n",
    "DD = pd.DataFrame(columns = ['c', 'd'])\n",
    "A1 = []\n",
    "\n",
    "start = time.time()\n",
    "for q in range(len(L)):\n",
    "    for w in range(len(L1)):\n",
    "        if fuzz.ratio(L[q], L1[w]) > 50:\n",
    "            A1.append({'c' : L[q], 'd' : L1[w]})\n",
    "            \n",
    "DD.append(A1)\n",
    "elapsed_time = (time.time() - start)\n",
    "print(elapsed_time)\n",
    "\n"
   ]
  },
  {
   "cell_type": "code",
   "execution_count": 257,
   "metadata": {},
   "outputs": [
    {
     "name": "stdout",
     "output_type": "stream",
     "text": [
      "0.003997802734375\n"
     ]
    }
   ],
   "source": [
    "#List approach\n",
    "\n",
    "DD = pd.DataFrame(columns = ['c', 'd'])\n",
    "A1 = []\n",
    "\n",
    "start = time.time()\n",
    "for q in range(len(L)):\n",
    "    for w in range(len(L1)):\n",
    "        if fuzz.ratio(L[q], L1[w]) > 50:\n",
    "            A1.append({'c' : L[q], 'd' : L1[w]})\n",
    "            \n",
    "DD.append(A1)\n",
    "elapsed_time = (time.time() - start)\n",
    "print(elapsed_time)\n",
    "\n"
   ]
  },
  {
   "cell_type": "code",
   "execution_count": null,
   "metadata": {},
   "outputs": [],
   "source": []
  },
  {
   "cell_type": "code",
   "execution_count": null,
   "metadata": {},
   "outputs": [],
   "source": []
  },
  {
   "cell_type": "code",
   "execution_count": null,
   "metadata": {},
   "outputs": [],
   "source": []
  }
 ],
 "metadata": {
  "kernelspec": {
   "display_name": "Python 3",
   "language": "python",
   "name": "python3"
  },
  "language_info": {
   "codemirror_mode": {
    "name": "ipython",
    "version": 3
   },
   "file_extension": ".py",
   "mimetype": "text/x-python",
   "name": "python",
   "nbconvert_exporter": "python",
   "pygments_lexer": "ipython3",
   "version": "3.7.3"
  }
 },
 "nbformat": 4,
 "nbformat_minor": 2
}
