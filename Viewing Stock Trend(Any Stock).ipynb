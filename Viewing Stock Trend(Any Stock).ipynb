{
 "cells": [
  {
   "cell_type": "code",
   "execution_count": 1,
   "metadata": {},
   "outputs": [],
   "source": [
    "import pandas as pd\n",
    "import pandas_datareader.data as web\n",
    "\n",
    "from datetime import datetime as dt\n",
    "\n",
    "from jupyter_dash import JupyterDash\n",
    "\n",
    "import dash\n",
    "import dash_html_components as html\n",
    "import dash_core_components as dcc\n",
    "from dash.dependencies import Input, Output\n",
    "import plotly.graph_objects as go\n",
    "import plotly.express as px"
   ]
  },
  {
   "cell_type": "code",
   "execution_count": 2,
   "metadata": {},
   "outputs": [],
   "source": [
    "start_date = dt(2020, 1, 1)\n",
    "end_date = dt.now()  #'2018-01-01'"
   ]
  },
  {
   "cell_type": "code",
   "execution_count": 3,
   "metadata": {},
   "outputs": [],
   "source": [
    "app = dash.Dash()"
   ]
  },
  {
   "cell_type": "code",
   "execution_count": 11,
   "metadata": {},
   "outputs": [],
   "source": [
    "app = JupyterDash(__name__)\n",
    "app.layout = html.Div([\n",
    "    html.H1(\"JupyterDash Demo\"),\n",
    "    dcc.Dropdown(\n",
    "        id = 'my-dropdown',\n",
    "        options = [\n",
    "            {'label' : 'Coke', \"value\" : 'COKE'},\n",
    "            {'label' : 'Tesla', \"value\" : 'TSLA'},\n",
    "            {'label' : 'Apple', \"value\" : 'AAPL'},\n",
    "            {'label' : 'Gold', \"value\" : 'GLD'},\n",
    "            {'label' : 'Microsoft', 'value' : 'MSFT'}\n",
    "        ],\n",
    "        value = 'COKE'\n",
    "    ),\n",
    "    dcc.Graph(id = 'stocks-graph')\n",
    "])\n",
    "\n",
    "@app.callback(Output('stocks-graph', 'figure'), [Input('my-dropdown', 'value')])\n",
    "def update_figure(column):\n",
    "    \n",
    "    df = web.DataReader(column, 'stooq', start_date, end_date)\n",
    "    df.reset_index(inplace = True)\n",
    "    \n",
    "    return px.line(df, x = df.Date, y = df.Close, title = 'Stock Performance')"
   ]
  },
  {
   "cell_type": "code",
   "execution_count": 12,
   "metadata": {},
   "outputs": [
    {
     "data": {
      "text/html": [
       "\n",
       "        <iframe\n",
       "            width=\"100%\"\n",
       "            height=\"650\"\n",
       "            src=\"http://127.0.0.1:8050/\"\n",
       "            frameborder=\"0\"\n",
       "            allowfullscreen\n",
       "        ></iframe>\n",
       "        "
      ],
      "text/plain": [
       "<IPython.lib.display.IFrame at 0x1becb4ee988>"
      ]
     },
     "metadata": {},
     "output_type": "display_data"
    }
   ],
   "source": [
    "app.run_server(mode = 'inline')"
   ]
  },
  {
   "cell_type": "code",
   "execution_count": null,
   "metadata": {},
   "outputs": [],
   "source": []
  },
  {
   "cell_type": "code",
   "execution_count": null,
   "metadata": {},
   "outputs": [],
   "source": []
  }
 ],
 "metadata": {
  "kernelspec": {
   "display_name": "Python 3",
   "language": "python",
   "name": "python3"
  },
  "language_info": {
   "codemirror_mode": {
    "name": "ipython",
    "version": 3
   },
   "file_extension": ".py",
   "mimetype": "text/x-python",
   "name": "python",
   "nbconvert_exporter": "python",
   "pygments_lexer": "ipython3",
   "version": "3.7.6"
  }
 },
 "nbformat": 4,
 "nbformat_minor": 4
}
