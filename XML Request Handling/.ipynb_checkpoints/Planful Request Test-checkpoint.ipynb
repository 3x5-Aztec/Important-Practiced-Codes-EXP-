{
 "cells": [
  {
   "cell_type": "code",
   "execution_count": 3,
   "metadata": {},
   "outputs": [],
   "source": [
    "import requests\n",
    "import json\n",
    "import xmltodict"
   ]
  },
  {
   "cell_type": "code",
   "execution_count": 14,
   "metadata": {},
   "outputs": [],
   "source": [
    "url=\"https://epm10.hostanalytics.com/HostApi/HostAPI_StateFree.asmx\"\n",
    "headers = {'Content-Type': 'text/xml','SOAPAction': 'http://www.HostAnalytics.com/API/SOAP/StateFree/Common/2009/03/19/GLData_RetrieveWithLogin'}\n",
    "body = \"\"\"<?xml version=\"1.0\" encoding=\"utf-8\"?>\n",
    "<soap:Envelope xmlns:xsi=\"http://www.w3.org/2001/XMLSchema-instance\" xmlns:xsd=\"http://www.w3.org/2001/XMLSchema\" xmlns:soap=\"http://schemas.xmlsoap.org/soap/envelope/\">\n",
    "  <soap:Body>\n",
    "    <GLData_RetrieveWithLogin xmlns=\"http://www.HostAnalytics.com/API/SOAP/StateFree/Common/2009/03/19\">\n",
    "      <LoginName></LoginName>\n",
    "      <Password></Password>\n",
    "      <TenantCode></TenantCode>\n",
    "      <FilterCollection>\n",
    "        <GLDataFilter>\n",
    "          <Field>FiscalYear</Field>\n",
    "          <FieldOperator>Equals</FieldOperator>\n",
    "          <Value>\n",
    "            <string>2020</string>\n",
    "            </Value>\n",
    "        </GLDataFilter>\n",
    "        \n",
    "        <GLDataFilter>\n",
    "          <Field>Scenario</Field>\n",
    "          <FieldOperator>Equals</FieldOperator>\n",
    "          <Value>\n",
    "            <string>2020 Budget</string>\n",
    "            </Value>\n",
    "        </GLDataFilter>\n",
    "        \n",
    "        <GLDataFilter>\n",
    "          <Field>AmountType</Field>\n",
    "          <FieldOperator>Equals</FieldOperator>\n",
    "          <Value>\n",
    "            <string>MTD</string>\n",
    "            </Value>\n",
    "        </GLDataFilter>\n",
    "        \n",
    "      </FilterCollection>\n",
    "    </GLData_RetrieveWithLogin>\n",
    "  </soap:Body>\n",
    "</soap:Envelope>\"\"\""
   ]
  },
  {
   "cell_type": "code",
   "execution_count": 15,
   "metadata": {},
   "outputs": [
    {
     "name": "stderr",
     "output_type": "stream",
     "text": [
      "IOPub data rate exceeded.\n",
      "The notebook server will temporarily stop sending output\n",
      "to the client in order to avoid crashing it.\n",
      "To change this limit, set the config variable\n",
      "`--NotebookApp.iopub_data_rate_limit`.\n",
      "\n",
      "Current values:\n",
      "NotebookApp.iopub_data_rate_limit=1000000.0 (bytes/sec)\n",
      "NotebookApp.rate_limit_window=3.0 (secs)\n",
      "\n"
     ]
    }
   ],
   "source": [
    "response = requests.post(url,data=body,headers=headers)\n",
    "print (response.content)"
   ]
  },
  {
   "cell_type": "code",
   "execution_count": 8,
   "metadata": {},
   "outputs": [],
   "source": [
    "# C:\\Users\\Diacto1\\EXP\\XML Request Handling\n",
    "with open(r'C:\\Users\\Diacto1\\EXP\\XML Request Handling\\Planful.xml', 'wb') as file:\n",
    "    file.write(response.content)"
   ]
  },
  {
   "cell_type": "code",
   "execution_count": 11,
   "metadata": {},
   "outputs": [],
   "source": [
    "with open(r\"C:\\Users\\Diacto1\\EXP\\XML Request Handling\\Planful.xml\") as xml_file:\n",
    "        data_dict = xmltodict.parse(xml_file.read())\n",
    "        xml_file.close()\n",
    "        json_data = json.dumps(data_dict, indent=10)\n",
    "        \n",
    "        with open(r'C:\\Users\\Diacto1\\EXP\\XML Request Handling\\data.json', \"w\") as json_file:\n",
    "            json_file.write(json_data)"
   ]
  },
  {
   "cell_type": "code",
   "execution_count": null,
   "metadata": {},
   "outputs": [],
   "source": []
  }
 ],
 "metadata": {
  "kernelspec": {
   "display_name": "Python 3",
   "language": "python",
   "name": "python3"
  },
  "language_info": {
   "codemirror_mode": {
    "name": "ipython",
    "version": 3
   },
   "file_extension": ".py",
   "mimetype": "text/x-python",
   "name": "python",
   "nbconvert_exporter": "python",
   "pygments_lexer": "ipython3",
   "version": "3.7.6"
  }
 },
 "nbformat": 4,
 "nbformat_minor": 4
}
